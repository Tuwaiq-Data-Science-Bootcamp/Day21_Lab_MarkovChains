{
 "cells": [
  {
   "cell_type": "markdown",
   "id": "39c9394d",
   "metadata": {},
   "source": [
    "<b>Markov chain Using <b>Bellman Equation (Value function)"
   ]
  },
  {
   "cell_type": "markdown",
   "id": "847bf7ea",
   "metadata": {},
   "source": [
    "The value function specifies the goodness of a state"
   ]
  },
  {
   "cell_type": "markdown",
   "id": "2ed704f4",
   "metadata": {},
   "source": [
    "<img src='5.png'>"
   ]
  },
  {
   "cell_type": "markdown",
   "id": "e695806a",
   "metadata": {},
   "source": [
    "<h1>V(s)=max a (R(s,a)+ γV(s’))"
   ]
  },
  {
   "cell_type": "markdown",
   "id": "a69ff3ae",
   "metadata": {},
   "source": [
    "(S):A set of state<br>\n",
    "(s’):Next State<br>\n",
    "(V):Value of the state<br>\n",
    "(A): A set of actions <b>((LEFT, RIGHT, UP, DOWN))</b><br>\n",
    "(Pᵃₛ₁ₛ₂) A transition probability , which is the probability of moving from one state to another state by performing some action.<br>\n",
    "( Rᵃₛ₁ₛ₂) A reward probability , which is the probability of a reward acquired by the agent for moving from one state to another state by performing some action. <b>(good reward +1, Bad reward can be -1, No reward 0)</b><br>\n",
    "(γ) A discount factor , which controls the importance of immediate and future rewards. We will discuss this in detail in the upcoming sections.<b>(between 0 and 1)</b>\n",
    "<br>"
   ]
  },
  {
   "cell_type": "markdown",
   "id": "3d7e50e8",
   "metadata": {},
   "source": [
    "<img src='6.png'>"
   ]
  }
 ],
 "metadata": {
  "kernelspec": {
   "display_name": "Python 3 (ipykernel)",
   "language": "python",
   "name": "python3"
  },
  "language_info": {
   "codemirror_mode": {
    "name": "ipython",
    "version": 3
   },
   "file_extension": ".py",
   "mimetype": "text/x-python",
   "name": "python",
   "nbconvert_exporter": "python",
   "pygments_lexer": "ipython3",
   "version": "3.7.13"
  }
 },
 "nbformat": 4,
 "nbformat_minor": 5
}
