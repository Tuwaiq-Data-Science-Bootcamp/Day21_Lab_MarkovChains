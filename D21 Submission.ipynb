{
 "cells": [
  {
   "cell_type": "markdown",
   "id": "b288df24",
   "metadata": {},
   "source": [
    "# Language Modelling\n",
    "langauge modelling predicts what is the probability of the next word given the previous sentence\n",
    "\n",
    "![image](https://editor.analyticsvidhya.com/uploads/74569Capture2.PNG)\n",
    "## language models used in \n",
    "### - Machine Translation \n",
    "##### P(high winds tonite) > P(large winds tonite)\n",
    "### - Spelling Correction\n",
    "##### P(about fifteen minutEs from) > P(about fifteen minuEts from) \n",
    "### - Speech Recognition\n",
    "##### P(I saw a van) >> P(eyes awe of an)\n",
    "\n",
    "#### Markov Chain is used to reducie the complexity of n-gram modeling\n",
    "\n",
    "# Markov Chains\n",
    "it states that the probability of a word depends only on the previous word.\n",
    "\n"
   ]
  },
  {
   "cell_type": "markdown",
   "id": "f8c505ea",
   "metadata": {},
   "source": [
    "## Hello How are you\n",
    "\n",
    "## P(doing |Hello How are you) ≈ P(doing |you)\n",
    "\n",
    "## P(wi | w1w2...wi−1) ≈ P(wi | wi−1)"
   ]
  },
  {
   "cell_type": "code",
   "execution_count": 5,
   "id": "8f54f0bd",
   "metadata": {},
   "outputs": [
    {
     "data": {
      "text/plain": [
       "[('I', 'am'),\n",
       " ('am', 'Sam.'),\n",
       " ('Sam.', 'Sam'),\n",
       " ('Sam', 'I'),\n",
       " ('I', 'am.'),\n",
       " ('am.', 'I'),\n",
       " ('I', 'do'),\n",
       " ('do', 'not'),\n",
       " ('not', 'like'),\n",
       " ('like', 'eggs'),\n",
       " ('eggs', 'and'),\n",
       " ('and', 'ham.')]"
      ]
     },
     "execution_count": 5,
     "metadata": {},
     "output_type": "execute_result"
    }
   ],
   "source": [
    "s = \"I am Sam. Sam I am. I do not like eggs and ham.\"\n",
    "tokens = s.split(\" \")\n",
    "bigrams = [(tokens[i],tokens[i+1]) for i in range(0,len(tokens)-1)]\n",
    "bigrams"
   ]
  },
  {
   "cell_type": "markdown",
   "id": "d193e134",
   "metadata": {},
   "source": [
    "### We will use this data to predict the probability of the word that follows the - i -\n",
    "\n"
   ]
  },
  {
   "cell_type": "markdown",
   "id": "f7869e4d",
   "metadata": {},
   "source": [
    "# P (am | I ) \n",
    "![image](https://encrypted-tbn0.gstatic.com/images?q=tbn:ANd9GcRMu_EbHPynOLpe6d_lzIfEl78b-jDB2oXQGw&usqp=CAU)"
   ]
  },
  {
   "cell_type": "markdown",
   "id": "3578fff4",
   "metadata": {},
   "source": [
    "### Listing the bigrams starting with the word - i -\n",
    "1. I am\n",
    "2. I am.\n",
    "3. I do"
   ]
  },
  {
   "cell_type": "code",
   "execution_count": 3,
   "id": "927330eb",
   "metadata": {},
   "outputs": [
    {
     "data": {
      "text/plain": [
       "0.3333333333333333"
      ]
     },
     "execution_count": 3,
     "metadata": {},
     "output_type": "execute_result"
    }
   ],
   "source": [
    "I_am= 1\n",
    "\n",
    "I= 3\n",
    "\n",
    "p=1/3\n",
    "\n",
    "p"
   ]
  },
  {
   "cell_type": "markdown",
   "id": "f69703e5",
   "metadata": {},
   "source": [
    "![image](https://sookocheff.com/post/nlp/ngram-modeling-with-markov-chains/transitions-from-I.png)"
   ]
  },
  {
   "cell_type": "code",
   "execution_count": 11,
   "id": "28135837",
   "metadata": {},
   "outputs": [
    {
     "data": {
      "text/plain": [
       "[('I', 'love'),\n",
       " ('love', 'Data'),\n",
       " ('Data', 'science'),\n",
       " ('science', 'because'),\n",
       " ('because', 'data'),\n",
       " ('data', 'science'),\n",
       " ('science', 'is'),\n",
       " ('is', 'fun,'),\n",
       " ('fun,', ''),\n",
       " ('', 'data'),\n",
       " ('data', \"scientist's\"),\n",
       " (\"scientist's\", 'job'),\n",
       " ('job', 'is'),\n",
       " ('is', 'to'),\n",
       " ('to', 'analyze'),\n",
       " ('analyze', 'data'),\n",
       " ('data', 'for'),\n",
       " ('for', 'actionable'),\n",
       " ('actionable', 'insights')]"
      ]
     },
     "execution_count": 11,
     "metadata": {},
     "output_type": "execute_result"
    }
   ],
   "source": [
    "s = \"I love Data science because data science is fun,  data scientist's job is to analyze data for actionable insights\"\n",
    "tokens = s.split(\" \")\n",
    "bigrams = [(tokens[i],tokens[i+1]) for i in range(0,len(tokens)-1)]\n",
    "bigrams"
   ]
  },
  {
   "cell_type": "markdown",
   "id": "8cdd8ad9",
   "metadata": {},
   "source": [
    "1. Data science\n",
    "2. data science\n",
    "3. data scientist's\n",
    "4. data for"
   ]
  },
  {
   "cell_type": "markdown",
   "id": "6e12e909",
   "metadata": {},
   "source": [
    "# P (science | data ) \n"
   ]
  },
  {
   "cell_type": "code",
   "execution_count": 10,
   "id": "f60d4847",
   "metadata": {},
   "outputs": [
    {
     "data": {
      "text/plain": [
       "0.5"
      ]
     },
     "execution_count": 10,
     "metadata": {},
     "output_type": "execute_result"
    }
   ],
   "source": [
    "DS= 2\n",
    "data=4\n",
    "\n",
    "DS/data"
   ]
  },
  {
   "cell_type": "markdown",
   "id": "3a505ad1",
   "metadata": {},
   "source": [
    "1. Data science (P = 0.50)\n",
    "2. data science (P = 0.50)\n",
    "3. data scientist's (P = 0.25)\n",
    "4. data for (P = 0.25)"
   ]
  }
 ],
 "metadata": {
  "kernelspec": {
   "display_name": "Python 3",
   "language": "python",
   "name": "python3"
  },
  "language_info": {
   "codemirror_mode": {
    "name": "ipython",
    "version": 3
   },
   "file_extension": ".py",
   "mimetype": "text/x-python",
   "name": "python",
   "nbconvert_exporter": "python",
   "pygments_lexer": "ipython3",
   "version": "3.8.5"
  }
 },
 "nbformat": 4,
 "nbformat_minor": 5
}
